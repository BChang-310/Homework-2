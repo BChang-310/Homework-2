{
 "cells": [
  {
   "cell_type": "markdown",
   "metadata": {},
   "source": [
    "## PGE 310 Fall 2021 Homework 2 Solution"
   ]
  },
  {
   "cell_type": "markdown",
   "metadata": {},
   "source": [
    "Save your work into a file named \"assignment.ipynb\". Test your work with the attached \"test.py\" file to make sure the automatic grading system can recognize your work. Failing to test your homework before submitting may result in zero grade."
   ]
  },
  {
   "cell_type": "code",
   "execution_count": 6,
   "metadata": {},
   "outputs": [],
   "source": [
    "# import needed packages\n",
    "import numpy as np\n",
    "import math as m\n",
    "import matplotlib.pyplot as plt"
   ]
  },
  {
   "cell_type": "markdown",
   "metadata": {},
   "source": [
    "## Problem 1"
   ]
  },
  {
   "cell_type": "markdown",
   "metadata": {},
   "source": [
    "In the following questions, you will translate homework 1 into Python. To do so, "
   ]
  },
  {
   "cell_type": "code",
   "execution_count": 2,
   "metadata": {},
   "outputs": [
    {
     "ename": "SyntaxError",
     "evalue": "invalid syntax (<ipython-input-2-373cd9556538>, line 5)",
     "output_type": "error",
     "traceback": [
      "\u001b[1;36m  File \u001b[1;32m\"<ipython-input-2-373cd9556538>\"\u001b[1;36m, line \u001b[1;32m5\u001b[0m\n\u001b[1;33m    a =  # alpha\u001b[0m\n\u001b[1;37m         ^\u001b[0m\n\u001b[1;31mSyntaxError\u001b[0m\u001b[1;31m:\u001b[0m invalid syntax\n"
     ]
    }
   ],
   "source": [
    "# Fill in the parameters.\n",
    "# For any integers, add \".\" or \".0\" after the number \n",
    "# to convert the data type from integer to float.\n",
    "# a,b are short for alpha and beta\n",
    "a =  # alpha\n",
    "b =  # beta\n",
    "\n",
    "# u, v, w are 1-D numpy array\n",
    "u = \n",
    "v = \n",
    "w = \n",
    "\n",
    "# x, A, B are 2-D numpy array\n",
    "x = \n",
    "A = \n",
    "B = "
   ]
  },
  {
   "cell_type": "code",
   "execution_count": null,
   "metadata": {},
   "outputs": [],
   "source": [
    "# 1 (a)\n",
    "def func_1a(w, u):\n",
    "    # type in the expression after the 'result =' in the next line\n",
    "    result = \n",
    "    return(result)\n",
    "print(func_1a(w, u))"
   ]
  },
  {
   "cell_type": "code",
   "execution_count": null,
   "metadata": {},
   "outputs": [],
   "source": [
    "# 1 (b)\n",
    "def func_1b(v,w):\n",
    "    # type in the expression after the 'result =' in the next line\n",
    "    result = \n",
    "    return(result)\n",
    "print(func_1b(v,w))"
   ]
  },
  {
   "cell_type": "code",
   "execution_count": null,
   "metadata": {},
   "outputs": [],
   "source": [
    "# 1 (c)\n",
    "def func_1c(v,w):\n",
    "    # type in the expression after the 'result =' in the next line\n",
    "    result_in_radians = \n",
    "    result_in_degree = \n",
    "    return(result_in_radians,result_in_degree)\n",
    "print(func_1c(v,w))"
   ]
  },
  {
   "cell_type": "code",
   "execution_count": null,
   "metadata": {},
   "outputs": [],
   "source": [
    "# 1 (d)\n",
    "def func_1d(u, v, w, a, b):\n",
    "    u = u.reshape((1,4))\n",
    "    v = v.reshape((1,4))\n",
    "    w = w.reshape((1,4))\n",
    "    \n",
    "    # type in the expression after the 'result =' in the next line\n",
    "    result = \n",
    "    return(result)\n",
    "print(func_1d(u, v, w, a, b))"
   ]
  },
  {
   "cell_type": "code",
   "execution_count": null,
   "metadata": {},
   "outputs": [],
   "source": [
    "# 1 (e)\n",
    "def func_1e(A, B, x):\n",
    "    # type in the expression after the 'result =' in the next line\n",
    "    result = \n",
    "    return(result)\n",
    "print(func_1e(A, B, x))"
   ]
  },
  {
   "cell_type": "code",
   "execution_count": null,
   "metadata": {},
   "outputs": [],
   "source": [
    "# 1 (f)\n",
    "def func_1f(A, b, x):\n",
    "    # type in the expression after the 'result =' in the next line\n",
    "    result = \n",
    "    return(result)\n",
    "print(func_1f(A, b, x))"
   ]
  },
  {
   "cell_type": "code",
   "execution_count": null,
   "metadata": {},
   "outputs": [],
   "source": [
    "# 1 (g)\n",
    "def func_1g(A, B):\n",
    "    # type in the expression after the 'result =' in the next line\n",
    "    result_AB = \n",
    "    result_BA = \n",
    "    return(result_AB,result_BA)\n",
    "print(func_1g(A, B))"
   ]
  },
  {
   "cell_type": "code",
   "execution_count": null,
   "metadata": {},
   "outputs": [],
   "source": [
    "# 1 (h)\n",
    "def func_1h(A, B):\n",
    "    # type in the expression after the 'result =' in the next line\n",
    "    result_LHS = \n",
    "    result_RHS = \n",
    "    return(result_LHS,result_RHS)\n",
    "print(func_1h(A, B))"
   ]
  },
  {
   "cell_type": "code",
   "execution_count": null,
   "metadata": {
    "tags": []
   },
   "outputs": [],
   "source": [
    "# 1 (i)\n",
    "def func_1i(A):\n",
    "    # type in the expression after the 'result =' in the next line\n",
    "    result =\n",
    "    return(result)\n",
    "print(func_1i(A))"
   ]
  },
  {
   "cell_type": "markdown",
   "metadata": {},
   "source": [
    " ## Problem2"
   ]
  },
  {
   "cell_type": "markdown",
   "metadata": {},
   "source": [
    "\n",
    "Please reproduce the graph below with the following requirements:\n",
    "    1) Plot f(X, Y) with a yellow. marker and circle line style.\n",
    "    2) Set axis to 'square' format style.\n",
    "    3) Set the range for the x-axis to be between -7.5 to 7.5, and the range for the y-axis to be between -4 to 4, \n",
    "    4) Turn on the grid option.\n",
    "    5) Label the axis according to the graph shown below."
   ]
  },
  {
   "cell_type": "markdown",
   "metadata": {},
   "source": [
    "## Do not modify the cell below"
   ]
  },
  {
   "cell_type": "code",
   "execution_count": 7,
   "metadata": {
    "tags": []
   },
   "outputs": [
    {
     "data": {
      "image/png": "[encoded data removed]",
      "text/plain": [
       "<IPython.core.display.Image object>"
      ]
     },
     "execution_count": 7,
     "metadata": {},
     "output_type": "execute_result"
    }
   ],
   "source": [
    "import math\n",
    "Y = np.arange(-4,4,.005)\n",
    "X = np.zeros((0))\n",
    "for y in Y:\n",
    "  X = np.append(X,abs(y/2)- 0.09137*y**2 + math.sqrt(1-(abs(abs(y)-2)-1)**2) -3)\n",
    "  \n",
    "Y1 = np.append(np.arange(-7,-3,.01), np.arange(3,7,.01))\n",
    "X1 = np.zeros((0))\n",
    "for y in Y1:\n",
    "  X1 = np.append(X1, 3*math.sqrt(-(y/7)**2+1))\n",
    "X = np.append(X,X1)\n",
    "Y = np.append(Y, Y1)\n",
    "Y1 = np.append(np.arange(-7.,-4,.01), np.arange(4,7.01,.01))\n",
    "X1 = np.zeros((0))\n",
    "for y in Y1:\n",
    "  X1 = np.append(X1, -3*math.sqrt(-(y/7)**2+1))\n",
    "X = np.append(X,X1)\n",
    "Y = np.append(Y, Y1)\n",
    "Y1 = np.append(np.arange(-1,-.8,.01), np.arange(.8, 1,.01))\n",
    "X1 = np.zeros((0))\n",
    "for y in Y1:\n",
    "  X1 = np.append(X1, 9-8*abs(y))\n",
    "X = np.append(X,X1)\n",
    "Y = np.append(Y, Y1)\n",
    "Y1 = np.arange(-.5,.5,.05)\n",
    "X1 = np.zeros((0))\n",
    "for y in Y1:\n",
    "  X1 = np.append(X1,2)\n",
    "X = np.append(X,X1)\n",
    "Y = np.append(Y, Y1)\n",
    "Y1 = np.append(np.arange(-2.9,-1,.01), np.arange(1, 2.9,.01))\n",
    "X1 = np.zeros((0))\n",
    "for y in Y1:\n",
    "  X1 = np.append(X1, 1.5 - .5*abs(y) - 1.89736*(math.sqrt(3-y**2+2*abs(y))-2) )\n",
    "X = np.append(X,X1)\n",
    "Y = np.append(Y, Y1)\n",
    "Y1 = np.append(np.arange(-.7,-.45,.01), np.arange(.45, .7,.01))\n",
    "X1 = np.zeros((0))\n",
    "for y in Y1:\n",
    "  X1 = np.append(X1, 3*abs(y)+.75)\n",
    "X = np.append(X,X1)\n",
    "Y = np.append(Y, Y1)\n",
    "plt.style.use('dark_background')\n",
    "from IPython.display import Image\n",
    "Image(filename='Screenshot_Batman_Plot.png')\n",
    "# Credit to Subarno Pal from medium.com"
   ]
  },
  {
   "cell_type": "code",
   "execution_count": null,
   "metadata": {},
   "outputs": [],
   "source": [
    "plt.plot()\n",
    "plt.axis()\n",
    "plt.xlim()\n",
    "plt.ylim()\n",
    "plt.grid()\n",
    "plt.title()\n",
    "plt.xlabel()\n",
    "plt.ylabel()\n",
    "plt.show();"
   ]
  }
 ],
 "metadata": {
  "kernelspec": {
   "display_name": "Python 3",
   "language": "python",
   "name": "python3"
  },
  "language_info": {
   "codemirror_mode": {
    "name": "ipython",
    "version": 3
   },
   "file_extension": ".py",
   "mimetype": "text/x-python",
   "name": "python",
   "nbconvert_exporter": "python",
   "pygments_lexer": "ipython3",
   "version": "3.8.8"
  }
 },
 "nbformat": 4,
 "nbformat_minor": 4
}
