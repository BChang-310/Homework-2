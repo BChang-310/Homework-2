{
 "cells": [
  {
   "cell_type": "markdown",
   "metadata": {
    "id": "AkZJqFaFQ6zZ"
   },
   "source": [
    "## PGE 310 Fall 2021 Homework 2"
   ]
  },
  {
   "cell_type": "markdown",
   "metadata": {
    "id": "U_CdaP7VQ6zh"
   },
   "source": [
    "Welcome to your first assignment in Python! This homework is split up into two problems. In Problem 1, you will practice coding scalar, vector, and matrix operations by translating Homework 1 into Python. Next, Problem 2 will help you pracitce some graphing and visualization using Matplotlib. Don't forget, you can always develop and try out your code in Spyder before copying to this Jupyter Notebook file! \n",
    "\n",
    "Please follow these instructions to test and submit your homework on GitHub Classroom:\\\n",
    "1) Bernie \\\n",
    "2) please \\\n",
    "3) fill \\\n",
    "4) this \\\n",
    "5) out \\\n",
    "\\\n",
    "And as always, feel free to contact Dr. P, Alex, Bernie, or Ziming with problems, questions, or comments. Learning to code can be difficult (and rewarding!), and we're here to help you overcome the learning curve!"
   ]
  },
  {
   "cell_type": "code",
   "execution_count": 1,
   "metadata": {
    "id": "IyaC8gu9Q6zj"
   },
   "outputs": [],
   "source": [
    "# import needed packages\n",
    "import numpy as np\n",
    "import math as m\n",
    "import matplotlib.pyplot as plt"
   ]
  },
  {
   "cell_type": "markdown",
   "metadata": {
    "id": "Vaxzv_4pQ6zp"
   },
   "source": [
    "## Quick Review of Functions\n"
   ]
  },
  {
   "cell_type": "code",
   "execution_count": 2,
   "metadata": {
    "colab": {
     "base_uri": "https://localhost:8080/",
     "height": 231
    },
    "id": "9fGtgc58hMZs",
    "outputId": "fb6295d6-cd34-432c-fd10-4badbc957f18"
   },
   "outputs": [
    {
     "ename": "NameError",
     "evalue": "name 'example_function' is not defined",
     "output_type": "error",
     "traceback": [
      "\u001b[1;31m---------------------------------------------------------------------------\u001b[0m",
      "\u001b[1;31mNameError\u001b[0m                                 Traceback (most recent call last)",
      "\u001b[1;32m<ipython-input-2-6217dc4a5fac>\u001b[0m in \u001b[0;36m<module>\u001b[1;34m\u001b[0m\n\u001b[0;32m      2\u001b[0m \u001b[0mfirst_number\u001b[0m \u001b[1;33m=\u001b[0m \u001b[1;36m1\u001b[0m\u001b[1;33m\u001b[0m\u001b[1;33m\u001b[0m\u001b[0m\n\u001b[0;32m      3\u001b[0m \u001b[0msecond_number\u001b[0m \u001b[1;33m=\u001b[0m \u001b[1;36m4\u001b[0m\u001b[1;33m\u001b[0m\u001b[1;33m\u001b[0m\u001b[0m\n\u001b[1;32m----> 4\u001b[1;33m \u001b[0manswer\u001b[0m \u001b[1;33m=\u001b[0m \u001b[0mexample_function\u001b[0m\u001b[1;33m(\u001b[0m\u001b[0mfirst_number\u001b[0m\u001b[1;33m,\u001b[0m \u001b[0msecond_number\u001b[0m\u001b[1;33m)\u001b[0m\u001b[1;33m\u001b[0m\u001b[1;33m\u001b[0m\u001b[0m\n\u001b[0m\u001b[0;32m      5\u001b[0m \u001b[0mprint\u001b[0m\u001b[1;33m(\u001b[0m\u001b[0manswer\u001b[0m\u001b[1;33m)\u001b[0m\u001b[1;33m\u001b[0m\u001b[1;33m\u001b[0m\u001b[0m\n\u001b[0;32m      6\u001b[0m \u001b[1;33m\u001b[0m\u001b[0m\n",
      "\u001b[1;31mNameError\u001b[0m: name 'example_function' is not defined"
     ]
    }
   ],
   "source": [
    "# This cell will give an error!\n",
    "first_number = 1\n",
    "second_number = 4\n",
    "answer = example_function(first_number, second_number) \n",
    "print(answer)\n",
    "\n",
    "def example_function(num1, num2):\n",
    "    sum = num1 + num2\n",
    "    return sum\n"
   ]
  },
  {
   "cell_type": "markdown",
   "metadata": {
    "id": "MsWXucTjhfEj"
   },
   "source": [
    "Before we get started, let's review a bit about functions. Functions can be used in Python (or any other programming language) to quickly and efficiently rerun/reuse code without having to copy and paste it elsewhere. Using functions will help you keep your code organized, readable, and easily debuggable. Here are some key points to remember:\n",
    "\n",
    "* In Python, functions are declared with the keyword ```def``` which is then followed by the function name and the input arguments in parentheses. For example, in the cell below, the function ```example_function``` is declared with input arguments ```num1``` and ```num2```. \n",
    "\n",
    "* Everything you want to compute inside a function should be indented, as Python looks for indentation (specifically in increments of 4 spaces) to figure out what is inside and outside a function. \n",
    "\n",
    "* Any variables you want to save from a function should be placed inside a ```return``` statement at the end of the function. This is because variables declared or changed inside functions are local variables - or in other words variables inside a function can only be accessed from within the function, even if they are named the same as a variable outside the function. \n",
    "\n",
    "* Finally, it is important to know that functions can only be called **after** they have been declared. For example, the following will **NOT** work because the function is called before it is defined:\n",
    "\n",
    "```\n",
    "# This cell will give an error!\n",
    "first_number = 1\n",
    "second_number = 4\n",
    "answer = example_function(first_number, second_number) \n",
    "print(answer)\n",
    "\n",
    "def example_function(num1, num2):\n",
    "    sum = num1 + num2\n",
    "    return sum\n",
    "```\n",
    "  \n"
   ]
  },
  {
   "cell_type": "markdown",
   "metadata": {
    "id": "Xd90BijEhnLX"
   },
   "source": [
    "Next is the corrected example...\n",
    "\n",
    "Also note how the function is declared with input arguments ```a``` and ```b``` but the variables ```first_number``` and ```second_number``` are passed when calling the function. When you call a function, you can pass in different variable names from what is declared in the function. The important thing is that the data types (number, string, list, etc.) of what is declared and what is passed match with what is computed within function. And please keep in mind that it is good practice to use variable names that are desciptive of what they represent. Abbreviations and short hand are good too if they are easily recognizable or if you comment what they mean! "
   ]
  },
  {
   "cell_type": "code",
   "execution_count": null,
   "metadata": {
    "colab": {
     "base_uri": "https://localhost:8080/"
    },
    "id": "V-TRaOexhywa",
    "outputId": "22dd7fe7-6235-4664-acc2-c78fd96a731e"
   },
   "outputs": [],
   "source": [
    "first_number = 1\n",
    "second_number = 4\n",
    "\n",
    "def example_function(num1, num2):\n",
    "    sum = num1 + num2\n",
    "    return sum\n",
    "\n",
    "answer = example_function(first_number, second_number)\n",
    "print(answer)"
   ]
  },
  {
   "cell_type": "markdown",
   "metadata": {
    "id": "EIKj4m0Vh4fy"
   },
   "source": [
    "**Bernie please add something about functions they already know and how the code for them is behind the scenes. And now that they are learning how to code, they can write their own fucitnos. Also will having the examples above in code cells mess up the grading thing????** \n",
    "\n",
    "We will use functions to automatically give you feedback and grade your homework on GitHub Classroom. The system is able to work automatically by finding the functions we provided and testing them in a process called \"unit testing\". "
   ]
  },
  {
   "cell_type": "markdown",
   "metadata": {
    "id": "9ofxew6hiamd"
   },
   "source": [
    "# Problem 1\n",
    "\n",
    "In the following problem, you will translate Homework 1 into Python. To do so, first recreate the scalars, vectors, and matrices from Homework 1 in the following cell. Then, in the proceeding cells, please compute the questions from Homework 1."
   ]
  },
  {
   "cell_type": "code",
   "execution_count": null,
   "metadata": {
    "id": "Q88zmOBGQ6zr",
    "outputId": "9ae02abf-09c9-43f0-dc3f-5c28bba4b0ab"
   },
   "outputs": [],
   "source": [
    "# Fill in the scalars and vectors.\n",
    "# a and b are short for alpha and beta.\n",
    "a =  # alpha\n",
    "b =  # beta\n",
    "\n",
    "# u, v, w are 1-D numpy array\n",
    "u = \n",
    "v = \n",
    "w = \n",
    "\n",
    "# x, A, B are 2-D numpy array\n",
    "x = \n",
    "A = \n",
    "B = "
   ]
  },
  {
   "cell_type": "markdown",
   "metadata": {
    "id": "JsJCfYBCXUyO"
   },
   "source": []
  },
  {
   "cell_type": "code",
   "execution_count": null,
   "metadata": {
    "id": "tkUOSdspQ6zv"
   },
   "outputs": [],
   "source": [
    "# 1 (a)\n",
    "def problem_1a(w, u):\n",
    "    # type in the expression after the 'result =' in the next line\n",
    "    result = \n",
    "    return(result)\n",
    "\n",
    "answer_1a = problem_1a(w, u)\n",
    "print(answer_1a)"
   ]
  },
  {
   "cell_type": "code",
   "execution_count": null,
   "metadata": {
    "id": "GFF0XDVVQ6zw"
   },
   "outputs": [],
   "source": [
    "# 1 (b)\n",
    "def problem_1b(v, w):\n",
    "    # type in the expression after the 'result =' in the next line\n",
    "    result = \n",
    "    return(result)\n",
    "\n",
    "answer_1b = problem_1b(v, w)\n",
    "print(answer_1b)"
   ]
  },
  {
   "cell_type": "code",
   "execution_count": null,
   "metadata": {
    "id": "B_bh6REaQ6zx"
   },
   "outputs": [],
   "source": [
    "# 1 (c)\n",
    "def problem_1c(v, w):\n",
    "    # type in the expression after the 'result =' in the next line\n",
    "    result_in_radians = \n",
    "    result_in_degree = \n",
    "    return(result_in_radians, result_in_degree)\n",
    "\n",
    "answer_1c = problem_1c(v,w)\n",
    "print(answer_1c)"
   ]
  },
  {
   "cell_type": "code",
   "execution_count": null,
   "metadata": {
    "id": "1iGRUiHgQ6zz"
   },
   "outputs": [],
   "source": [
    "# 1 (d)\n",
    "def problem_1d(u, v, w, a, b):\n",
    "    u = u.reshape((1,4))\n",
    "    v = v.reshape((1,4))\n",
    "    w = w.reshape((1,4))\n",
    "    \n",
    "    # type in the expression after the 'result =' in the next line\n",
    "    result = \n",
    "    return(result)\n",
    "\n",
    "answer_1d = problem_1d(u, v, w, a, b)\n",
    "print(answer_1d)"
   ]
  },
  {
   "cell_type": "code",
   "execution_count": null,
   "metadata": {
    "id": "7mEzPjqdQ6z1"
   },
   "outputs": [],
   "source": [
    "# 1 (e)\n",
    "def problem_1e(A, B, x):\n",
    "    # type in the expression after the 'result =' in the next line\n",
    "    result = \n",
    "    return(result)\n",
    "\n",
    "answer_1e = problem_1e(A, B, x)\n",
    "print(answer_1e)"
   ]
  },
  {
   "cell_type": "code",
   "execution_count": null,
   "metadata": {
    "id": "LTlGFOT2Q6z5"
   },
   "outputs": [],
   "source": [
    "# 1 (f)\n",
    "def problem_1f(A, b, x):\n",
    "    # type in the expression after the 'result =' in the next line\n",
    "    result = \n",
    "    return(result)\n",
    "\n",
    "answer_1f = problem_1f(A, b, x)\n",
    "print(answer_1f)"
   ]
  },
  {
   "cell_type": "code",
   "execution_count": null,
   "metadata": {
    "id": "4VU44NlTQ6z6"
   },
   "outputs": [],
   "source": [
    "# 1 (g)\n",
    "def problem_1g(A, B):\n",
    "    # type in the expression after the 'result =' in the next line\n",
    "    result_AB = \n",
    "    result_BA = \n",
    "    return(result_AB, result_BA)\n",
    "\n",
    "answer_1g = problem_1g(A, B)\n",
    "print(answer_1g)"
   ]
  },
  {
   "cell_type": "code",
   "execution_count": null,
   "metadata": {
    "id": "dT54VMFJQ6z7"
   },
   "outputs": [],
   "source": [
    "# 1 (h)\n",
    "def problem_1h(A, B):\n",
    "    # type in the expression after the 'result =' in the next line\n",
    "    result_LHS = \n",
    "    result_RHS = \n",
    "    return(result_LHS, result_RHS)\n",
    "\n",
    "answer_1h = problem_1h(A, B)\n",
    "print(answer_1h)"
   ]
  },
  {
   "cell_type": "code",
   "execution_count": null,
   "metadata": {
    "id": "kCbkyBFsQ6z7",
    "tags": []
   },
   "outputs": [],
   "source": [
    "# 1 (i)\n",
    "def problem_1i(A):\n",
    "    # type in the expression after the 'result =' in the next line\n",
    "    result =\n",
    "    return(result)\n",
    "\n",
    "answer_1i = problem_1i(A)\n",
    "print(answer_1i)"
   ]
  },
  {
   "cell_type": "markdown",
   "metadata": {
    "id": "euYN4Fg4Q6z8"
   },
   "source": [
    " ## Problem 2"
   ]
  },
  {
   "cell_type": "markdown",
   "metadata": {
    "id": "K95Oerm_Q6z8"
   },
   "source": [
    "\n",
    "Please reproduce the graph below with the following requirements:\n",
    "    1) Plot f(X, Y) with a yellow. marker and circle line style.\n",
    "    2) Set axis to 'square' format style.\n",
    "    3) Set the range for the x-axis to be between -7.5 to 7.5, and the range for the y-axis to be between -4 to 4, \n",
    "    4) Turn on the grid option.\n",
    "    5) Label the axis according to the graph shown below.\n",
    "\n",
    "<img src = 'Screenshot_Batman_Plot.png'>"
   ]
  },
  {
   "cell_type": "markdown",
   "metadata": {
    "id": "TBEUgkkbQ6z9"
   },
   "source": [
    "## Do not modify the cell below"
   ]
  },
  {
   "cell_type": "code",
   "execution_count": null,
   "metadata": {
    "colab": {
     "base_uri": "https://localhost:8080/",
     "height": 383
    },
    "id": "fmN0joTiQ6z9",
    "outputId": "3c8de614-493a-43d6-bcbd-f3949c645e31",
    "tags": []
   },
   "outputs": [],
   "source": [
    "import math\n",
    "\n",
    "Y = np.arange(-4,4,.005)\n",
    "X = np.zeros((0))\n",
    "\n",
    "for y in Y:\n",
    "  X = np.append(X,abs(y/2)- 0.09137*y**2 + math.sqrt(1-(abs(abs(y)-2)-1)**2) -3)\n",
    "  \n",
    "Y1 = np.append(np.arange(-7,-3,.01), np.arange(3,7,.01))\n",
    "X1 = np.zeros((0))\n",
    "\n",
    "for y in Y1:\n",
    "  X1 = np.append(X1, 3*math.sqrt(-(y/7)**2+1))\n",
    "X = np.append(X,X1)\n",
    "Y = np.append(Y, Y1)\n",
    "Y1 = np.append(np.arange(-7.,-4,.01), np.arange(4,7.01,.01))\n",
    "X1 = np.zeros((0))\n",
    "\n",
    "for y in Y1:\n",
    "  X1 = np.append(X1, -3*math.sqrt(-(y/7)**2+1))\n",
    "X = np.append(X,X1)\n",
    "Y = np.append(Y, Y1)\n",
    "Y1 = np.append(np.arange(-1,-.8,.01), np.arange(.8, 1,.01))\n",
    "X1 = np.zeros((0))\n",
    "\n",
    "for y in Y1:\n",
    "  X1 = np.append(X1, 9-8*abs(y))\n",
    "X = np.append(X,X1)\n",
    "Y = np.append(Y, Y1)\n",
    "Y1 = np.arange(-.5,.5,.05)\n",
    "X1 = np.zeros((0))\n",
    "\n",
    "for y in Y1:\n",
    "  X1 = np.append(X1,2)\n",
    "X = np.append(X,X1)\n",
    "Y = np.append(Y, Y1)\n",
    "Y1 = np.append(np.arange(-2.9,-1,.01), np.arange(1, 2.9,.01))\n",
    "X1 = np.zeros((0))\n",
    "\n",
    "for y in Y1:\n",
    "  X1 = np.append(X1, 1.5 - .5*abs(y) - 1.89736*(math.sqrt(3-y**2+2*abs(y))-2) )\n",
    "X = np.append(X,X1)\n",
    "Y = np.append(Y, Y1)\n",
    "Y1 = np.append(np.arange(-.7,-.45,.01), np.arange(.45, .7,.01))\n",
    "X1 = np.zeros((0))\n",
    "\n",
    "for y in Y1:\n",
    "  X1 = np.append(X1, 3*abs(y)+.75)\n",
    "X = np.append(X,X1)\n",
    "Y = np.append(Y, Y1)\n",
    "\n",
    "plt.style.use('dark_background')\n",
    "# Credit to Subarno Pal from medium.com"
   ]
  },
  {
   "cell_type": "code",
   "execution_count": null,
   "metadata": {
    "colab": {
     "base_uri": "https://localhost:8080/",
     "height": 495
    },
    "id": "6oT9T-zGQ6z-",
    "outputId": "cc1a3136-c266-4b0a-8146-bffaa3229a71"
   },
   "outputs": [],
   "source": [
    "plt.plot()\n",
    "plt.axis()\n",
    "plt.xlim()\n",
    "plt.ylim()\n",
    "plt.grid()\n",
    "plt.title()\n",
    "plt.xlabel()\n",
    "plt.ylabel()\n",
    "plt.show();"
   ]
  },
  {
   "cell_type": "code",
   "execution_count": null,
   "metadata": {
    "id": "EU78TyiTTpxX"
   },
   "outputs": [],
   "source": []
  }
 ],
 "metadata": {
  "colab": {
   "collapsed_sections": [],
   "name": "assignment_HW2.ipynb",
   "provenance": []
  },
  "kernelspec": {
   "display_name": "Python 3",
   "language": "python",
   "name": "python3"
  },
  "language_info": {
   "codemirror_mode": {
    "name": "ipython",
    "version": 3
   },
   "file_extension": ".py",
   "mimetype": "text/x-python",
   "name": "python",
   "nbconvert_exporter": "python",
   "pygments_lexer": "ipython3",
   "version": "3.8.8"
  }
 },
 "nbformat": 4,
 "nbformat_minor": 1
}
